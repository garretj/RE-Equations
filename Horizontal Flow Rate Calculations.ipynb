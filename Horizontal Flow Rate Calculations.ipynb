{
 "cells": [
  {
   "cell_type": "code",
   "execution_count": 106,
   "metadata": {},
   "outputs": [],
   "source": [
    "import math\n",
    "import numpy as np"
   ]
  },
  {
   "cell_type": "code",
   "execution_count": 107,
   "metadata": {},
   "outputs": [],
   "source": [
    "def half_ellipse(L, reh):\n",
    "    \"\"\"\n",
    "    Half of the major axis of the drainage ellipse (feet) (Joshi 3-11) where;\n",
    "    L = length (feet)\n",
    "    reh = horizontal drainage radius (feet)\n",
    "    \"\"\"\n",
    "    return (L / 2) * (0.5 + math.sqrt(0.25 + (2 * reh / L)**4))**0.5"
   ]
  },
  {
   "cell_type": "code",
   "execution_count": 108,
   "metadata": {},
   "outputs": [],
   "source": [
    "def eff_wellbore_radius(L, h, a, reh, rw):\n",
    "    \"\"\"\n",
    "    Effective wellbore drainage radius calculation (feet) (Joshi 3-25) where;\n",
    "    L = length of horizontal wellbore (feet)\n",
    "    a = half_ellipse (feet)\n",
    "    reh = horizontal drainage radius (feet)\n",
    "    rw = wellbore radius (feet)\n",
    "    \"\"\"\n",
    "    return (reh * (L / 2)) / (a * (1 + (math.sqrt(1 - (L / (2*a)**2)))) * ((h / (2 * (rw/12)))**(h/L1)))"
   ]
  },
  {
   "cell_type": "code",
   "execution_count": 109,
   "metadata": {},
   "outputs": [],
   "source": [
    "def ss_flow_rate(k, h, Pr, Pwf, v, Z, T, re, rw1):\n",
    "    \"\"\"\n",
    "    Steady state gas flow rate calculation (Mcfd) (Joshi 9-11) where;\n",
    "    k = permeability (mD)\n",
    "    h = reservoir thickness (feet)\n",
    "    Pr = reservoir pressure (psi)\n",
    "    Pwf = wellhead pressure (psi)\n",
    "    v = viscosity (cP)\n",
    "    Z = gas compressability\n",
    "    T = temperature (farenheit)\n",
    "    re = drainage radius (feet)\n",
    "    rw1 = effective wellbore radius (feet)\n",
    "    \"\"\"\n",
    "    return (0.0007027 * k * h * (Pr**2 - Pwf**2)) / (v * Z * (T + 460.67) * math.log(re / rw**2))"
   ]
  },
  {
   "cell_type": "code",
   "execution_count": 110,
   "metadata": {},
   "outputs": [],
   "source": [
    "def prod_idx(k, h, reh, v, Bg, L):\n",
    "    \"\"\"\n",
    "    Steady state productivity index calculation (Mcfd/psi) (Joshi 2-9) where;\n",
    "    k = average permeability (mD)\n",
    "    h = reservoir thickness (feet)\n",
    "    reh = horizontal drainage radius (feet)\n",
    "    v = viscosity (cP)\n",
    "    Bg = gas formation volume factor\n",
    "    \"\"\"\n",
    "    return ((0.007078 * k * h) / (v * Bg)) * (1 / (math.log((4*reh)/L))) \n",
    "    return print('Mcfd')"
   ]
  },
  {
   "cell_type": "code",
   "execution_count": 111,
   "metadata": {},
   "outputs": [],
   "source": [
    "def prod_idx_joshi(q, Pr, Pwf):\n",
    "    \"\"\"\n",
    "    Simple productivity index calculation (Mcfd/psi) where;\n",
    "    q = flow rate (Mcfd)\n",
    "    Pr = static reservoir pressure (psi)\n",
    "    Pwf = flowing BHP pressure (psi)\n",
    "    \"\"\"\n",
    "    return q / (Pr - Pwf)"
   ]
  },
  {
   "cell_type": "code",
   "execution_count": 119,
   "metadata": {},
   "outputs": [],
   "source": [
    "h = 330 # average reservoir thickness in feet\n",
    "T = 64 # reservoir temperature in F\n",
    "k = 15 # average permeability in mD\n",
    "Kv = 15 # vertical permeability in mD\n",
    "Kh = 20 # horizontal permeability in mD\n",
    "Por = 0.1 # average porosity\n",
    "Sw = 0.2 # water saturation\n",
    "V = 0.02 # viscosity in cP\n",
    "Z = 0.85 # gas compressibility factor\n",
    "rv = 800 # vertical well drainage radius in feet\n",
    "rh = 1200 # horizontal well drainage radius in feet\n",
    "rw = 6.25 # wellbore radius in inches\n",
    "Pr = 1050 # static reservoir pressure in psi\n",
    "Pwf = 900 # flowing well pressure in psi\n",
    "L1 = 1800 # length of first lateral in feet\n",
    "L2 = 1300 # length of second lateral in feet"
   ]
  },
  {
   "cell_type": "code",
   "execution_count": 120,
   "metadata": {},
   "outputs": [
    {
     "data": {
      "text/plain": [
       "1378.720171925224"
      ]
     },
     "execution_count": 120,
     "metadata": {},
     "output_type": "execute_result"
    }
   ],
   "source": [
    "a = half_ellipse(L = L1, reh = rh)\n",
    "a #feet"
   ]
  },
  {
   "cell_type": "code",
   "execution_count": 121,
   "metadata": {},
   "outputs": [
    {
     "data": {
      "text/plain": [
       "136.29064714607586"
      ]
     },
     "execution_count": 121,
     "metadata": {},
     "output_type": "execute_result"
    }
   ],
   "source": [
    "rw1 = eff_wellbore_radius(L=L1, h=h, a=a, reh=rh, rw=rw)\n",
    "rw1 #feet"
   ]
  },
  {
   "cell_type": "code",
   "execution_count": 122,
   "metadata": {},
   "outputs": [
    {
     "data": {
      "text/plain": [
       "0.7575481336621663"
      ]
     },
     "execution_count": 122,
     "metadata": {},
     "output_type": "execute_result"
    }
   ],
   "source": [
    "(math.sqrt(1 - ((L1 / (2*a))**2))) #From Mani's calculation - wrong parentheses I believe, should only square 2*a"
   ]
  },
  {
   "cell_type": "code",
   "execution_count": 123,
   "metadata": {},
   "outputs": [
    {
     "data": {
      "text/plain": [
       "33305.51932460399"
      ]
     },
     "execution_count": 123,
     "metadata": {},
     "output_type": "execute_result"
    }
   ],
   "source": [
    "q = ss_flow_rate(k=k, h=h, Pr=Pr, Pwf=Pwf, v=V, Z=Z, T=T, re=rh, rw1=rw1)\n",
    "q #Mcfd"
   ]
  },
  {
   "cell_type": "code",
   "execution_count": 124,
   "metadata": {},
   "outputs": [
    {
     "data": {
      "text/plain": [
       "222.03679549735995"
      ]
     },
     "execution_count": 124,
     "metadata": {},
     "output_type": "execute_result"
    }
   ],
   "source": [
    "J1 = prod_idx_joshi(q=q, Pr=Pr, Pwf=Pwf)\n",
    "J1 #Mcfd/psi"
   ]
  }
 ],
 "metadata": {
  "kernelspec": {
   "display_name": "Python 3",
   "language": "python",
   "name": "python3"
  },
  "language_info": {
   "codemirror_mode": {
    "name": "ipython",
    "version": 3
   },
   "file_extension": ".py",
   "mimetype": "text/x-python",
   "name": "python",
   "nbconvert_exporter": "python",
   "pygments_lexer": "ipython3",
   "version": "3.6.4"
  }
 },
 "nbformat": 4,
 "nbformat_minor": 2
}
